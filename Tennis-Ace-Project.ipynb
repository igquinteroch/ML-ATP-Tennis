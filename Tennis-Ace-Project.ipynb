{
 "cells": [
  {
   "cell_type": "markdown",
   "id": "f106dec6",
   "metadata": {},
   "source": [
    "# Project's Goal"
   ]
  },
  {
   "cell_type": "markdown",
   "id": "14fa9ad9",
   "metadata": {},
   "source": [
    "The purpose is to create a linear regression model that predicts the outcome for a tennis player based on their playing habits. By analyzing and modeling the Association of Tennis Professionals (ATP) data, the goal is to determine what it takes to be one of the best tennis players in the world."
   ]
  },
  {
   "cell_type": "markdown",
   "id": "ac23215f",
   "metadata": {},
   "source": [
    "## Data"
   ]
  },
  {
   "cell_type": "markdown",
   "id": "33419d35",
   "metadata": {},
   "source": [
    "The data `tennis_stats.csv` is from the men’s professional tennis league, which is called the ATP (Association of Tennis Professionals). \n",
    "\n",
    "The data provided in the file is from the top 1500 ranked players in the ATP over the span of 2009 to 2017. \n",
    "\n",
    "The statistics recorded for each player in each year include service game (offensive) statistics, return game (defensive) statistics and outcomes."
   ]
  },
  {
   "cell_type": "markdown",
   "id": "d6e746d7",
   "metadata": {},
   "source": [
    "## Data columns"
   ]
  },
  {
   "cell_type": "markdown",
   "id": "5bf5752a",
   "metadata": {},
   "source": [
    "### Identifying Data\n",
    "\n",
    "* `Player`: name of the tennis player.\n",
    "* `Year`: year data was recorded.\n",
    "\n",
    "### Service Game Columns (Offensive)\n",
    "\n",
    "* `Aces`: number of serves by the player where the receiver does not touch the ball.\n",
    "* `DoubleFaults`: number of times player missed both first and second serve attempts.\n",
    "* `FirstServe`: % of first-serve attempts made.\n",
    "* `FirstServePointsWon`: % of first-serve attempt points won by the player.\n",
    "* `SecondServePointsWon`: % of second-serve attempt points won by the player.\n",
    "* `BreakPointsFaced`: number of times where the receiver could have won service game of the player.\n",
    "* `BreakPointsSaved`: % of the time the player was able to stop the receiver from winning service game when they had the chance.\n",
    "* `ServiceGamesPlayed`: total number of games where the player served.\n",
    "* `ServiceGamesWon`: total number of games where the player served and won.\n",
    "* `TotalServicePointsWon`: % of points in games where the player served that they won.\n",
    "\n",
    "### Return Game Columns (Defensive)\n",
    "\n",
    "* `FirstServeReturnPointsWon`: % of opponents first-serve points the player was able to win.\n",
    "* `SecondServeReturnPointsWon`: % of opponents second-serve points the player was able to win.\n",
    "* `BreakPointsOpportunities`: number of times where the player could have won the service game of the opponent.\n",
    "* `BreakPointsConverted`: % of the time the player was able to win their opponent’s service game when they had the chance.\n",
    "* `ReturnGamesPlayed`: total number of games where the player’s opponent served.\n",
    "* `ReturnGamesWon`: total number of games where the player’s opponent served and the player won.\n",
    "* `ReturnPointsWon`: total number of points where the player’s opponent served and the player won.\n",
    "* `TotalPointsWon`: % of points won by the player.\n",
    "\n",
    "### Outcomes\n",
    "\n",
    "* `Wins`: number of matches won in a year.\n",
    "* `Losses`: number of matches lost in a year.\n",
    "* `Winnings`: total winnings in USD in a year.\n",
    "* `Ranking`: ranking at the end of year."
   ]
  },
  {
   "cell_type": "code",
   "execution_count": null,
   "id": "0328d92f",
   "metadata": {},
   "outputs": [],
   "source": []
  },
  {
   "cell_type": "code",
   "execution_count": null,
   "id": "ef95de50",
   "metadata": {},
   "outputs": [],
   "source": []
  },
  {
   "cell_type": "code",
   "execution_count": null,
   "id": "bdf16e58",
   "metadata": {},
   "outputs": [],
   "source": []
  },
  {
   "cell_type": "code",
   "execution_count": null,
   "id": "68ff3bcb",
   "metadata": {},
   "outputs": [],
   "source": []
  }
 ],
 "metadata": {
  "kernelspec": {
   "display_name": "Python 3 (ipykernel)",
   "language": "python",
   "name": "python3"
  },
  "language_info": {
   "codemirror_mode": {
    "name": "ipython",
    "version": 3
   },
   "file_extension": ".py",
   "mimetype": "text/x-python",
   "name": "python",
   "nbconvert_exporter": "python",
   "pygments_lexer": "ipython3",
   "version": "3.10.13"
  }
 },
 "nbformat": 4,
 "nbformat_minor": 5
}
